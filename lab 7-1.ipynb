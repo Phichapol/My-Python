{
 "cells": [
  {
   "cell_type": "code",
   "execution_count": 2,
   "metadata": {},
   "outputs": [
    {
     "name": "stdout",
     "output_type": "stream",
     "text": [
      "ชื่อ  Purse\n",
      "เงินเดือน  15000\n",
      "โอที  7500\n",
      "เงินเดือนรวมโอที  22500\n"
     ]
    }
   ],
   "source": [
    "def calculate(h):\n",
    "    if h > 40:\n",
    "        ot = h * 150\n",
    "        return ot\n",
    "    else:\n",
    "        ot = h * 100\n",
    "        return ot\n",
    "    \n",
    "    \n",
    "n = input(\"ชื่อ : \")\n",
    "s = int(input(\"เงินเดือน : \"))\n",
    "h = int(input(\"จำนวนชั่วโมงล่วงเวลา : \"))\n",
    "sum = s + calculate(h)\n",
    "\n",
    "print(\"ชื่อ \" , n)\n",
    "print(\"เงินเดือน \", s)\n",
    "print(\"โอที \", calculate(h))\n",
    "print(\"เงินเดือนรวมโอที \", sum)\n"
   ]
  }
 ],
 "metadata": {
  "kernelspec": {
   "display_name": "Python 3",
   "language": "python",
   "name": "python3"
  },
  "language_info": {
   "codemirror_mode": {
    "name": "ipython",
    "version": 3
   },
   "file_extension": ".py",
   "mimetype": "text/x-python",
   "name": "python",
   "nbconvert_exporter": "python",
   "pygments_lexer": "ipython3",
   "version": "3.12.3"
  }
 },
 "nbformat": 4,
 "nbformat_minor": 2
}
