{
 "cells": [
  {
   "cell_type": "code",
   "execution_count": 1,
   "metadata": {},
   "outputs": [
    {
     "name": "stdout",
     "output_type": "stream",
     "text": [
      "ใส่คะแนนจิตพิสัยเกิน\n",
      "คะแนนรวมทั้งหมด : 50\n"
     ]
    }
   ],
   "source": [
    "def score(s,g,m):\n",
    "    sc = s + g + m \n",
    "    return sc\n",
    "\n",
    "def exceed(A,B,C):\n",
    "    if A < 20:\n",
    "        \n",
    "        if B < 10:\n",
    "            \n",
    "            if C < 20:\n",
    "                print(\"\")\n",
    "            else:\n",
    "                print(\"ใส่คะแนนเก็บเกิน\")   \n",
    "        else:\n",
    "            print(\"ใส่คะแนนจิตพิสัยเกิน\")\n",
    "    else:\n",
    "        print(\"ใส่คะแนนกลางภาคเกิน\") \n",
    "\n",
    "  \n",
    "\n",
    "s = int(input(\"คะแนนเก็บ : \"))\n",
    "\n",
    "g = int(input(\"คะแนนจิตพิสัย : \"))\n",
    "\n",
    "m = int(input(\"คะแนนกลางภาค : \")) \n",
    "\n",
    "exceed(s,g,m)\n",
    "print(\"คะแนนรวมทั้งหมด : \" + str(score(s,g,m)))\n"
   ]
  },
  {
   "cell_type": "code",
   "execution_count": 2,
   "metadata": {},
   "outputs": [
    {
     "ename": "NameError",
     "evalue": "name 'C' is not defined",
     "output_type": "error",
     "traceback": [
      "\u001b[1;31m---------------------------------------------------------------------------\u001b[0m",
      "\u001b[1;31mNameError\u001b[0m                                 Traceback (most recent call last)",
      "Cell \u001b[1;32mIn[2], line 1\u001b[0m\n\u001b[1;32m----> 1\u001b[0m \u001b[38;5;28;01mif\u001b[39;00m \u001b[43mC\u001b[49m \u001b[38;5;241m>\u001b[39m \u001b[38;5;241m20\u001b[39m:\n\u001b[0;32m      2\u001b[0m     \u001b[38;5;28mprint\u001b[39m(\u001b[38;5;124m\"\u001b[39m\u001b[38;5;124m\"\u001b[39m)\n\u001b[0;32m      3\u001b[0m \u001b[38;5;28;01melse\u001b[39;00m:\n",
      "\u001b[1;31mNameError\u001b[0m: name 'C' is not defined"
     ]
    }
   ],
   "source": [
    "\n",
    "\n",
    "if C > 20:\n",
    "    print(\"\")\n",
    "else:\n",
    "    print(\"ใสเกิน\")"
   ]
  }
 ],
 "metadata": {
  "kernelspec": {
   "display_name": "Python 3",
   "language": "python",
   "name": "python3"
  },
  "language_info": {
   "codemirror_mode": {
    "name": "ipython",
    "version": 3
   },
   "file_extension": ".py",
   "mimetype": "text/x-python",
   "name": "python",
   "nbconvert_exporter": "python",
   "pygments_lexer": "ipython3",
   "version": "3.12.3"
  }
 },
 "nbformat": 4,
 "nbformat_minor": 2
}
