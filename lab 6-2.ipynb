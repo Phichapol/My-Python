{
 "cells": [
  {
   "cell_type": "code",
   "execution_count": 20,
   "metadata": {},
   "outputs": [
    {
     "name": "stdout",
     "output_type": "stream",
     "text": [
      "ใส่คะแนนจิตพิสัยเกิน\n",
      "คะแนนรวมทั้งหมด : 60\n"
     ]
    }
   ],
   "source": [
    "def score(s,g,m):\n",
    "    sc = s + g + m \n",
    "    return sc\n",
    "\n",
    "def exceed(A,B,C):\n",
    "    if A < 20:\n",
    "        \n",
    "        if B < 10:\n",
    "            \n",
    "            if C < 20:\n",
    "                print(\"\")\n",
    "            else:\n",
    "                print(\"ใส่คะแนนเก็บเกิน\")   \n",
    "        else:\n",
    "            print(\"ใส่คะแนนจิตพิสัยเกิน\")\n",
    "    else:\n",
    "        print(\"ใส่คะแนนกลางภาคเกิน\") \n",
    "\n",
    "  \n",
    "\n",
    "s = int(input(\"คะแนนเก็บ : \"))\n",
    "\n",
    "g = int(input(\"คะแนนจิตพิสัย : \"))\n",
    "\n",
    "m = int(input(\"คะแนนกลางภาค : \")) \n",
    "\n",
    "exceed(s,g,m)\n",
    "print(\"คะแนนรวมทั้งหมด : \" + str(score(s,g,m)))\n"
   ]
  },
  {
   "cell_type": "code",
   "execution_count": null,
   "metadata": {},
   "outputs": [],
   "source": [
    "\n",
    "\n",
    "if C > 20:\n",
    "    print(\"\")\n",
    "else:\n",
    "    print(\"ใสเกิน\")"
   ]
  }
 ],
 "metadata": {
  "kernelspec": {
   "display_name": "Python 3",
   "language": "python",
   "name": "python3"
  },
  "language_info": {
   "codemirror_mode": {
    "name": "ipython",
    "version": 3
   },
   "file_extension": ".py",
   "mimetype": "text/x-python",
   "name": "python",
   "nbconvert_exporter": "python",
   "pygments_lexer": "ipython3",
   "version": "3.12.3"
  }
 },
 "nbformat": 4,
 "nbformat_minor": 2
}
