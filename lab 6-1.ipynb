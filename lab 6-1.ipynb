{
 "cells": [
  {
   "cell_type": "code",
   "execution_count": 3,
   "metadata": {},
   "outputs": [
    {
     "name": "stdout",
     "output_type": "stream",
     "text": [
      "Hello World\n"
     ]
    }
   ],
   "source": [
    "print(\"Hello World\")"
   ]
  },
  {
   "cell_type": "code",
   "execution_count": 10,
   "metadata": {},
   "outputs": [
    {
     "name": "stdout",
     "output_type": "stream",
     "text": [
      "19.5\n"
     ]
    }
   ],
   "source": [
    "a = 10.5\n",
    "b = 9\n",
    "print(a+b)"
   ]
  },
  {
   "cell_type": "code",
   "execution_count": 7,
   "metadata": {},
   "outputs": [
    {
     "name": "stdout",
     "output_type": "stream",
     "text": [
      "Hello 0\n",
      "Hello 1\n",
      "Hello 2\n",
      "Hello 3\n",
      "Hello 4\n",
      "Hello 5\n",
      "Hello 6\n",
      "Hello 7\n",
      "Hello 8\n",
      "Hello 9\n"
     ]
    }
   ],
   "source": [
    "for i in range(10):\n",
    "    print(\"Hello %d\" % i)"
   ]
  },
  {
   "cell_type": "code",
   "execution_count": 6,
   "metadata": {},
   "outputs": [
    {
     "name": "stdout",
     "output_type": "stream",
     "text": [
      "ฟาเรนไฮต์ : 32.00 \n",
      "เคลวิน : 273.15 \n"
     ]
    }
   ],
   "source": [
    "def c_to_f(c):\n",
    "    f = 9/5 * c + 32\n",
    "    return f\n",
    "\n",
    "def c_to_k(c):\n",
    "    k = c = 273.15\n",
    "    return k\n",
    "\n",
    "c = float(input(\"เซลเซียสเพื่อแปลงเป็นฟาเรนไฮต์ : \"))\n",
    "\n",
    "print(\"ฟาเรนไฮต์ : %.2f \" % c_to_f(c))\n",
    "print(\"เคลวิน : %.2f \" % c_to_k(c))\n"
   ]
  }
 ],
 "metadata": {
  "kernelspec": {
   "display_name": "Python 3",
   "language": "python",
   "name": "python3"
  },
  "language_info": {
   "codemirror_mode": {
    "name": "ipython",
    "version": 3
   },
   "file_extension": ".py",
   "mimetype": "text/x-python",
   "name": "python",
   "nbconvert_exporter": "python",
   "pygments_lexer": "ipython3",
   "version": "3.12.3"
  }
 },
 "nbformat": 4,
 "nbformat_minor": 2
}
